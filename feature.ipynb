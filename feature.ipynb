from sklearn.preprocessing import StandardScaler
from sklearn.model_selection import train_test_split

# Load processed data
df = pd.read_csv('data/processed/zomato_cleaned.csv')

# Feature engineering: Standardize 'Cost for Two'
scaler = StandardScaler()
df['Cost for Two'] = scaler.fit_transform(df[['Cost for Two']])

# Prepare data for model
X = df.drop(columns=['Rating'])
y = df['Rating']
X_train, X_test, y_train, y_test = train_test_split(X, y, test_size=0.2, random_state=42)
